{
  "cells": [
    {
      "cell_type": "markdown",
      "metadata": {
        "id": "view-in-github",
        "colab_type": "text"
      },
      "source": [
        "<a href=\"https://colab.research.google.com/github/12869741/ACTINN/blob/master/Train_with_more_technical_indicators.ipynb\" target=\"_parent\"><img src=\"https://colab.research.google.com/assets/colab-badge.svg\" alt=\"Open In Colab\"/></a>"
      ]
    },
    {
      "cell_type": "markdown",
      "metadata": {
        "id": "95XaaOViDi8T"
      },
      "source": [
        "# Tutorial 7\n",
        "We show how to train a profitable RL agent on portfolio managemnt with EIIE algorithm on US stock market  with more technical indicators."
      ]
    },
    {
      "cell_type": "code",
      "execution_count": 1,
      "metadata": {
        "colab": {
          "base_uri": "https://localhost:8080/"
        },
        "id": "o0b63qXuD0xM",
        "outputId": "6d8dd507-266c-4437-b26a-2e927835fb1d"
      },
      "outputs": [
        {
          "output_type": "stream",
          "name": "stdout",
          "text": [
            "Cloning into 'TradeMaster'...\n",
            "remote: Enumerating objects: 6521, done.\u001b[K\n",
            "remote: Counting objects: 100% (1741/1741), done.\u001b[K\n",
            "remote: Compressing objects: 100% (676/676), done.\u001b[K\n",
            "remote: Total 6521 (delta 1112), reused 1623 (delta 1044), pack-reused 4780\u001b[K\n",
            "Receiving objects: 100% (6521/6521), 385.31 MiB | 18.97 MiB/s, done.\n",
            "Resolving deltas: 100% (3327/3327), done.\n",
            "Updating files: 100% (397/397), done.\n"
          ]
        }
      ],
      "source": [
        "!git clone -b 1.0.0 https://github.com/TradeMaster-NTU/TradeMaster.git"
      ]
    },
    {
      "cell_type": "code",
      "source": [
        "import os\n",
        "os.chdir('.')"
      ],
      "metadata": {
        "id": "JMXmXL5OARJc"
      },
      "execution_count": 10,
      "outputs": []
    },
    {
      "cell_type": "code",
      "source": [
        "%cd TradeMaster"
      ],
      "metadata": {
        "colab": {
          "base_uri": "https://localhost:8080/"
        },
        "id": "rogSIc0G4uld",
        "outputId": "96eba127-082d-4cb9-8368-9c93aaf8ee83"
      },
      "execution_count": 3,
      "outputs": [
        {
          "output_type": "stream",
          "name": "stdout",
          "text": [
            "/content/TradeMaster\n"
          ]
        }
      ]
    },
    {
      "cell_type": "code",
      "source": [
        "!pwd"
      ],
      "metadata": {
        "colab": {
          "base_uri": "https://localhost:8080/"
        },
        "id": "kPcT3DeMBcjn",
        "outputId": "7e079a00-766b-4781-d38b-44631ab3e75f"
      },
      "execution_count": 11,
      "outputs": [
        {
          "output_type": "stream",
          "name": "stdout",
          "text": [
            "/content/TradeMaster\n"
          ]
        }
      ]
    },
    {
      "cell_type": "code",
      "execution_count": 13,
      "metadata": {
        "colab": {
          "base_uri": "https://localhost:8080/"
        },
        "id": "kDoplAGzD5xA",
        "outputId": "5a18df67-a420-463e-aaa2-2bf2b6fe394a"
      },
      "outputs": [
        {
          "output_type": "stream",
          "name": "stdout",
          "text": [
            "Looking in indexes: https://pypi.org/simple, https://us-python.pkg.dev/colab-wheels/public/simple/\n",
            "Collecting git+https://github.com/optuna/optuna.git (from -r /content/requirements.txt (line 4))\n",
            "  Cloning https://github.com/optuna/optuna.git to /tmp/pip-req-build-1xc6gumz\n",
            "  Running command git clone --filter=blob:none --quiet https://github.com/optuna/optuna.git /tmp/pip-req-build-1xc6gumz\n",
            "  Resolved https://github.com/optuna/optuna.git to commit 1f794c4be6b16af572340cc85fe6bf21362c9fd9\n",
            "  Installing build dependencies ... \u001b[?25l\u001b[?25hdone\n",
            "  Getting requirements to build wheel ... \u001b[?25l\u001b[?25hdone\n",
            "  Preparing metadata (pyproject.toml) ... \u001b[?25l\u001b[?25hdone\n",
            "Requirement already satisfied: Flask in /usr/local/lib/python3.9/dist-packages (from -r /content/requirements.txt (line 1)) (2.2.3)\n",
            "Collecting Flask-Cors\n",
            "  Using cached Flask_Cors-3.0.10-py2.py3-none-any.whl (14 kB)\n",
            "Requirement already satisfied: mmcv in /usr/local/lib/python3.9/dist-packages (from -r /content/requirements.txt (line 3)) (1.7.1)\n",
            "Requirement already satisfied: prettytable in /usr/local/lib/python3.9/dist-packages (from -r /content/requirements.txt (line 5)) (0.7.2)\n",
            "Requirement already satisfied: plotly in /usr/local/lib/python3.9/dist-packages (from -r /content/requirements.txt (line 6)) (5.13.1)\n",
            "Requirement already satisfied: psutil in /usr/local/lib/python3.9/dist-packages (from -r /content/requirements.txt (line 7)) (5.9.4)\n",
            "Requirement already satisfied: scipy in /usr/local/lib/python3.9/dist-packages (from -r /content/requirements.txt (line 8)) (1.10.1)\n",
            "Requirement already satisfied: spacy in /usr/local/lib/python3.9/dist-packages (from -r /content/requirements.txt (line 9)) (3.5.1)\n",
            "Requirement already satisfied: sqlalchemy in /usr/local/lib/python3.9/dist-packages (from -r /content/requirements.txt (line 10)) (1.4.47)\n",
            "Requirement already satisfied: pandas in /usr/local/lib/python3.9/dist-packages (from -r /content/requirements.txt (line 11)) (1.4.4)\n",
            "Collecting iopath\n",
            "  Using cached iopath-0.1.10.tar.gz (42 kB)\n",
            "  Preparing metadata (setup.py) ... \u001b[?25l\u001b[?25hdone\n",
            "Requirement already satisfied: yfinance in /usr/local/lib/python3.9/dist-packages (from -r /content/requirements.txt (line 13)) (0.2.14)\n",
            "Requirement already satisfied: matplotlib in /usr/local/lib/python3.9/dist-packages (from -r /content/requirements.txt (line 14)) (3.7.1)\n",
            "Requirement already satisfied: statsmodels in /usr/local/lib/python3.9/dist-packages (from -r /content/requirements.txt (line 15)) (0.13.5)\n",
            "Requirement already satisfied: scikit_learn in /usr/local/lib/python3.9/dist-packages (from -r /content/requirements.txt (line 16)) (1.2.2)\n",
            "Collecting tslearn\n",
            "  Using cached tslearn-0.5.3.2-py3-none-any.whl (358 kB)\n",
            "Requirement already satisfied: gym in /usr/local/lib/python3.9/dist-packages (from -r /content/requirements.txt (line 18)) (0.25.2)\n",
            "Collecting gymnasium\n",
            "  Using cached gymnasium-0.28.1-py3-none-any.whl (925 kB)\n",
            "Collecting ray[rllib]==1.13.0\n",
            "  Using cached ray-1.13.0-cp39-cp39-manylinux2014_x86_64.whl (54.3 MB)\n",
            "Collecting tensorflow==2.11.0\n",
            "  Using cached tensorflow-2.11.0-cp39-cp39-manylinux_2_17_x86_64.manylinux2014_x86_64.whl (588.3 MB)\n",
            "Requirement already satisfied: packaging in /usr/local/lib/python3.9/dist-packages (from -r /content/requirements.txt (line 22)) (23.0)\n",
            "Collecting kaleido==0.1.0\n",
            "  Using cached kaleido-0.1.0-py2.py3-none-manylinux1_x86_64.whl (74.6 MB)\n",
            "Requirement already satisfied: h5py in /usr/local/lib/python3.9/dist-packages (from -r /content/requirements.txt (line 24)) (3.8.0)\n",
            "Collecting pydantic==1.10.2\n",
            "  Using cached pydantic-1.10.2-cp39-cp39-manylinux_2_17_x86_64.manylinux2014_x86_64.whl (13.2 MB)\n",
            "Collecting jupyter\n",
            "  Using cached jupyter-1.0.0-py2.py3-none-any.whl (2.7 kB)\n",
            "Collecting celery\n",
            "  Using cached celery-5.2.7-py3-none-any.whl (405 kB)\n",
            "Collecting pika\n",
            "  Using cached pika-1.3.1-py3-none-any.whl (155 kB)\n",
            "Requirement already satisfied: jsonschema in /usr/local/lib/python3.9/dist-packages (from ray[rllib]==1.13.0->-r /content/requirements.txt (line 20)) (4.3.3)\n",
            "Requirement already satisfied: attrs in /usr/local/lib/python3.9/dist-packages (from ray[rllib]==1.13.0->-r /content/requirements.txt (line 20)) (22.2.0)\n",
            "Requirement already satisfied: numpy>=1.19.3 in /usr/local/lib/python3.9/dist-packages (from ray[rllib]==1.13.0->-r /content/requirements.txt (line 20)) (1.22.4)\n",
            "Collecting grpcio<=1.43.0,>=1.28.1\n",
            "  Using cached grpcio-1.43.0-cp39-cp39-manylinux_2_17_x86_64.manylinux2014_x86_64.whl (4.1 MB)\n",
            "Requirement already satisfied: filelock in /usr/local/lib/python3.9/dist-packages (from ray[rllib]==1.13.0->-r /content/requirements.txt (line 20)) (3.10.7)\n",
            "Requirement already satisfied: msgpack<2.0.0,>=1.0.0 in /usr/local/lib/python3.9/dist-packages (from ray[rllib]==1.13.0->-r /content/requirements.txt (line 20)) (1.0.5)\n",
            "Collecting aiosignal\n",
            "  Using cached aiosignal-1.3.1-py3-none-any.whl (7.6 kB)\n",
            "Collecting virtualenv\n",
            "  Using cached virtualenv-20.21.0-py3-none-any.whl (8.7 MB)\n",
            "Requirement already satisfied: protobuf<4.0.0,>=3.15.3 in /usr/local/lib/python3.9/dist-packages (from ray[rllib]==1.13.0->-r /content/requirements.txt (line 20)) (3.20.3)\n",
            "Requirement already satisfied: requests in /usr/local/lib/python3.9/dist-packages (from ray[rllib]==1.13.0->-r /content/requirements.txt (line 20)) (2.27.1)\n",
            "Collecting frozenlist\n",
            "  Using cached frozenlist-1.3.3-cp39-cp39-manylinux_2_5_x86_64.manylinux1_x86_64.manylinux_2_17_x86_64.manylinux2014_x86_64.whl (158 kB)\n",
            "Collecting click<=8.0.4,>=7.0\n",
            "  Using cached click-8.0.4-py3-none-any.whl (97 kB)\n",
            "Requirement already satisfied: pyyaml in /usr/local/lib/python3.9/dist-packages (from ray[rllib]==1.13.0->-r /content/requirements.txt (line 20)) (6.0)\n",
            "Collecting gym\n",
            "  Using cached gym-0.21.0.tar.gz (1.5 MB)\n",
            "  \u001b[1;31merror\u001b[0m: \u001b[1msubprocess-exited-with-error\u001b[0m\n",
            "  \n",
            "  \u001b[31m×\u001b[0m \u001b[32mpython setup.py egg_info\u001b[0m did not run successfully.\n",
            "  \u001b[31m│\u001b[0m exit code: \u001b[1;36m1\u001b[0m\n",
            "  \u001b[31m╰─>\u001b[0m See above for output.\n",
            "  \n",
            "  \u001b[1;35mnote\u001b[0m: This error originates from a subprocess, and is likely not a problem with pip.\n",
            "  Preparing metadata (setup.py) ... \u001b[?25l\u001b[?25herror\n",
            "\u001b[1;31merror\u001b[0m: \u001b[1mmetadata-generation-failed\u001b[0m\n",
            "\n",
            "\u001b[31m×\u001b[0m Encountered error while generating package metadata.\n",
            "\u001b[31m╰─>\u001b[0m See above for output.\n",
            "\n",
            "\u001b[1;35mnote\u001b[0m: This is an issue with the package mentioned above, not pip.\n",
            "\u001b[1;36mhint\u001b[0m: See above for details.\n"
          ]
        }
      ],
      "source": [
        "!pip install -r /content/requirements.txt"
      ]
    },
    {
      "cell_type": "markdown",
      "metadata": {
        "id": "CDDUgb6GDi8U"
      },
      "source": [
        "## Step 1: Import Packages\n",
        "Modify the system path and load the corresponding packages and functions"
      ]
    },
    {
      "cell_type": "code",
      "execution_count": 14,
      "metadata": {
        "id": "AmNaofDgDi8V",
        "colab": {
          "base_uri": "https://localhost:8080/",
          "height": 544
        },
        "outputId": "55ae1ff1-a1ab-411e-d02a-4a0fa20fc724"
      },
      "outputs": [
        {
          "output_type": "error",
          "ename": "ModuleNotFoundError",
          "evalue": "ignored",
          "traceback": [
            "\u001b[0;31m---------------------------------------------------------------------------\u001b[0m",
            "\u001b[0;31mModuleNotFoundError\u001b[0m                       Traceback (most recent call last)",
            "\u001b[0;32m<ipython-input-14-67603b276b51>\u001b[0m in \u001b[0;36m<cell line: 12>\u001b[0;34m()\u001b[0m\n\u001b[1;32m     10\u001b[0m \u001b[0;32mimport\u001b[0m \u001b[0mos\u001b[0m\u001b[0;34m.\u001b[0m\u001b[0mpath\u001b[0m \u001b[0;32mas\u001b[0m \u001b[0mosp\u001b[0m\u001b[0;34m\u001b[0m\u001b[0;34m\u001b[0m\u001b[0m\n\u001b[1;32m     11\u001b[0m \u001b[0;32mfrom\u001b[0m \u001b[0mmmcv\u001b[0m \u001b[0;32mimport\u001b[0m \u001b[0mConfig\u001b[0m\u001b[0;34m\u001b[0m\u001b[0;34m\u001b[0m\u001b[0m\n\u001b[0;32m---> 12\u001b[0;31m \u001b[0;32mfrom\u001b[0m \u001b[0mtrademaster\u001b[0m\u001b[0;34m.\u001b[0m\u001b[0mutils\u001b[0m \u001b[0;32mimport\u001b[0m \u001b[0mreplace_cfg_vals\u001b[0m\u001b[0;34m\u001b[0m\u001b[0;34m\u001b[0m\u001b[0m\n\u001b[0m\u001b[1;32m     13\u001b[0m \u001b[0;32mfrom\u001b[0m \u001b[0mtrademaster\u001b[0m\u001b[0;34m.\u001b[0m\u001b[0mnets\u001b[0m\u001b[0;34m.\u001b[0m\u001b[0mbuilder\u001b[0m \u001b[0;32mimport\u001b[0m \u001b[0mbuild_net\u001b[0m\u001b[0;34m\u001b[0m\u001b[0;34m\u001b[0m\u001b[0m\n\u001b[1;32m     14\u001b[0m \u001b[0;32mfrom\u001b[0m \u001b[0mtrademaster\u001b[0m\u001b[0;34m.\u001b[0m\u001b[0menvironments\u001b[0m\u001b[0;34m.\u001b[0m\u001b[0mbuilder\u001b[0m \u001b[0;32mimport\u001b[0m \u001b[0mbuild_environment\u001b[0m\u001b[0;34m\u001b[0m\u001b[0;34m\u001b[0m\u001b[0m\n",
            "\u001b[0;32m/content/TradeMaster/trademaster/utils/__init__.py\u001b[0m in \u001b[0;36m<module>\u001b[0;34m\u001b[0m\n\u001b[1;32m     10\u001b[0m \u001b[0;32mfrom\u001b[0m \u001b[0;34m.\u001b[0m\u001b[0mutils\u001b[0m \u001b[0;32mimport\u001b[0m \u001b[0mcalculate_radar_score\u001b[0m\u001b[0;34m\u001b[0m\u001b[0;34m\u001b[0m\u001b[0m\n\u001b[1;32m     11\u001b[0m \u001b[0;32mfrom\u001b[0m  \u001b[0;34m.\u001b[0m\u001b[0mutils\u001b[0m \u001b[0;32mimport\u001b[0m \u001b[0mMRL_F2B_args_converter\u001b[0m\u001b[0;34m\u001b[0m\u001b[0;34m\u001b[0m\u001b[0m\n\u001b[0;32m---> 12\u001b[0;31m \u001b[0;32mfrom\u001b[0m \u001b[0;34m.\u001b[0m\u001b[0mmisc\u001b[0m \u001b[0;32mimport\u001b[0m \u001b[0mget_last_checkpoint\u001b[0m\u001b[0;34m\u001b[0m\u001b[0;34m\u001b[0m\u001b[0m\n\u001b[0m\u001b[1;32m     13\u001b[0m \u001b[0;32mfrom\u001b[0m \u001b[0;34m.\u001b[0m\u001b[0mmisc\u001b[0m \u001b[0;32mimport\u001b[0m \u001b[0msave_model\u001b[0m\u001b[0;34m\u001b[0m\u001b[0;34m\u001b[0m\u001b[0m\n\u001b[1;32m     14\u001b[0m \u001b[0;32mfrom\u001b[0m \u001b[0;34m.\u001b[0m\u001b[0mmisc\u001b[0m \u001b[0;32mimport\u001b[0m \u001b[0mload_model\u001b[0m\u001b[0;34m\u001b[0m\u001b[0;34m\u001b[0m\u001b[0m\n",
            "\u001b[0;32m/content/TradeMaster/trademaster/utils/misc.py\u001b[0m in \u001b[0;36m<module>\u001b[0;34m\u001b[0m\n\u001b[1;32m     20\u001b[0m \u001b[0;32mimport\u001b[0m \u001b[0mtorch\u001b[0m\u001b[0;34m\u001b[0m\u001b[0;34m\u001b[0m\u001b[0m\n\u001b[1;32m     21\u001b[0m \u001b[0;32mimport\u001b[0m \u001b[0mtorch\u001b[0m\u001b[0;34m.\u001b[0m\u001b[0mdistributed\u001b[0m \u001b[0;32mas\u001b[0m \u001b[0mdist\u001b[0m\u001b[0;34m\u001b[0m\u001b[0;34m\u001b[0m\u001b[0m\n\u001b[0;32m---> 22\u001b[0;31m \u001b[0;32mfrom\u001b[0m \u001b[0miopath\u001b[0m\u001b[0;34m.\u001b[0m\u001b[0mcommon\u001b[0m\u001b[0;34m.\u001b[0m\u001b[0mfile_io\u001b[0m \u001b[0;32mimport\u001b[0m \u001b[0mg_pathmgr\u001b[0m \u001b[0;32mas\u001b[0m \u001b[0mpathmgr\u001b[0m\u001b[0;34m\u001b[0m\u001b[0;34m\u001b[0m\u001b[0m\n\u001b[0m\u001b[1;32m     23\u001b[0m \u001b[0;32mfrom\u001b[0m \u001b[0mtorch\u001b[0m\u001b[0;34m.\u001b[0m\u001b[0m_six\u001b[0m \u001b[0;32mimport\u001b[0m \u001b[0minf\u001b[0m\u001b[0;34m\u001b[0m\u001b[0;34m\u001b[0m\u001b[0m\n\u001b[1;32m     24\u001b[0m \u001b[0;32mimport\u001b[0m \u001b[0mpickle\u001b[0m \u001b[0;32mas\u001b[0m \u001b[0mpkl\u001b[0m\u001b[0;34m\u001b[0m\u001b[0;34m\u001b[0m\u001b[0m\n",
            "\u001b[0;31mModuleNotFoundError\u001b[0m: No module named 'iopath'",
            "",
            "\u001b[0;31m---------------------------------------------------------------------------\u001b[0;32m\nNOTE: If your import is failing due to a missing package, you can\nmanually install dependencies using either !pip or !apt.\n\nTo view examples of installing some common dependencies, click the\n\"Open Examples\" button below.\n\u001b[0;31m---------------------------------------------------------------------------\u001b[0m\n"
          ],
          "errorDetails": {
            "actions": [
              {
                "action": "open_url",
                "actionText": "Open Examples",
                "url": "/notebooks/snippets/importing_libraries.ipynb"
              }
            ]
          }
        }
      ],
      "source": [
        "import os\n",
        "import sys\n",
        "from pathlib import Path\n",
        "import warnings\n",
        "warnings.filterwarnings(\"ignore\")\n",
        "ROOT = '/content/TradeMaster'\n",
        "sys.path.append(ROOT)\n",
        "import torch\n",
        "import argparse\n",
        "import os.path as osp\n",
        "from mmcv import Config\n",
        "from trademaster.utils import replace_cfg_vals\n",
        "from trademaster.nets.builder import build_net\n",
        "from trademaster.environments.builder import build_environment\n",
        "from trademaster.datasets.builder import build_dataset\n",
        "from trademaster.agents.builder import build_agent\n",
        "from trademaster.optimizers.builder import build_optimizer\n",
        "from trademaster.losses.builder import build_loss\n",
        "from trademaster.trainers.builder import build_trainer\n",
        "from trademaster.transition.builder import build_transition\n",
        "from trademaster.utils import plot\n",
        "from trademaster.utils import set_seed\n",
        "import pandas as pd\n",
        "set_seed(2023)"
      ]
    },
    {
      "cell_type": "code",
      "source": [
        "ROOT"
      ],
      "metadata": {
        "colab": {
          "base_uri": "https://localhost:8080/",
          "height": 35
        },
        "id": "MdJqtupgBtNK",
        "outputId": "3bf9c806-3cb9-47c2-a142-7194469cb100"
      },
      "execution_count": 9,
      "outputs": [
        {
          "output_type": "execute_result",
          "data": {
            "text/plain": [
              "'/content/TradeMaster'"
            ],
            "application/vnd.google.colaboratory.intrinsic+json": {
              "type": "string"
            }
          },
          "metadata": {},
          "execution_count": 9
        }
      ]
    },
    {
      "cell_type": "markdown",
      "metadata": {
        "id": "Zu78Rl3zDi8W"
      },
      "source": [
        "## Step 2.1: Load Configs\n",
        "Load default config from the file `configs/portfolio_management/portfolio_management_dj30_eiie_eiie_adam_mse.py`"
      ]
    },
    {
      "cell_type": "code",
      "execution_count": 8,
      "metadata": {
        "id": "3IN1YVNIDi8W",
        "colab": {
          "base_uri": "https://localhost:8080/",
          "height": 247
        },
        "outputId": "c77433c7-9eaf-42db-b520-56696fa0d4e4"
      },
      "outputs": [
        {
          "output_type": "error",
          "ename": "NameError",
          "evalue": "ignored",
          "traceback": [
            "\u001b[0;31m---------------------------------------------------------------------------\u001b[0m",
            "\u001b[0;31mNameError\u001b[0m                                 Traceback (most recent call last)",
            "\u001b[0;32m<ipython-input-8-c6ebc35774d0>\u001b[0m in \u001b[0;36m<cell line: 7>\u001b[0;34m()\u001b[0m\n\u001b[1;32m      5\u001b[0m \u001b[0;34m\u001b[0m\u001b[0m\n\u001b[1;32m      6\u001b[0m \u001b[0margs\u001b[0m\u001b[0;34m,\u001b[0m \u001b[0m_\u001b[0m\u001b[0;34m=\u001b[0m \u001b[0mparser\u001b[0m\u001b[0;34m.\u001b[0m\u001b[0mparse_known_args\u001b[0m\u001b[0;34m(\u001b[0m\u001b[0;34m)\u001b[0m\u001b[0;34m\u001b[0m\u001b[0;34m\u001b[0m\u001b[0m\n\u001b[0;32m----> 7\u001b[0;31m \u001b[0mcfg\u001b[0m \u001b[0;34m=\u001b[0m \u001b[0mConfig\u001b[0m\u001b[0;34m.\u001b[0m\u001b[0mfromfile\u001b[0m\u001b[0;34m(\u001b[0m\u001b[0margs\u001b[0m\u001b[0;34m.\u001b[0m\u001b[0mconfig\u001b[0m\u001b[0;34m)\u001b[0m\u001b[0;34m\u001b[0m\u001b[0;34m\u001b[0m\u001b[0m\n\u001b[0m\u001b[1;32m      8\u001b[0m \u001b[0mtask_name\u001b[0m \u001b[0;34m=\u001b[0m \u001b[0margs\u001b[0m\u001b[0;34m.\u001b[0m\u001b[0mtask_name\u001b[0m\u001b[0;34m\u001b[0m\u001b[0;34m\u001b[0m\u001b[0m\n\u001b[1;32m      9\u001b[0m \u001b[0mcfg\u001b[0m \u001b[0;34m=\u001b[0m \u001b[0mreplace_cfg_vals\u001b[0m\u001b[0;34m(\u001b[0m\u001b[0mcfg\u001b[0m\u001b[0;34m)\u001b[0m\u001b[0;34m\u001b[0m\u001b[0;34m\u001b[0m\u001b[0m\n",
            "\u001b[0;31mNameError\u001b[0m: name 'Config' is not defined"
          ]
        }
      ],
      "source": [
        "parser = argparse.ArgumentParser(description='Download Alpaca Datasets')\n",
        "parser.add_argument(\"--config\", default=osp.join(ROOT, \"configs\", \"portfolio_management\", \"portfolio_management_dj30_eiie_eiie_adam_mse.py\"),\n",
        "                    help=\"download datasets config file path\")\n",
        "parser.add_argument(\"--task_name\", type=str, default=\"train\")\n",
        "\n",
        "args, _= parser.parse_known_args()\n",
        "cfg = Config.fromfile(args.config)\n",
        "task_name = args.task_name\n",
        "cfg = replace_cfg_vals(cfg)\n"
      ]
    },
    {
      "cell_type": "markdown",
      "metadata": {
        "id": "7-9_a8WJ7J6z"
      },
      "source": [
        "Below is an overview of the original dataset before the technical indicators were generated."
      ]
    },
    {
      "cell_type": "code",
      "execution_count": null,
      "metadata": {
        "colab": {
          "base_uri": "https://localhost:8080/"
        },
        "id": "VmJebWL264yc",
        "outputId": "4e370029-81f7-49ab-cc5c-a26c8a6c143d"
      },
      "outputs": [
        {
          "output_type": "execute_result",
          "data": {
            "text/plain": [
              "{'type': 'PortfolioManagementDataset',\n",
              " 'data_path': 'data/portfolio_management/dj30',\n",
              " 'train_path': 'workdir/dj30/train.csv',\n",
              " 'valid_path': 'workdir/dj30/valid.csv',\n",
              " 'test_path': 'workdir/dj30/test.csv',\n",
              " 'tech_indicator_list': ['zopen',\n",
              "  'zhigh',\n",
              "  'zlow',\n",
              "  'zadjcp',\n",
              "  'zclose',\n",
              "  'zd_5',\n",
              "  'zd_10',\n",
              "  'zd_15',\n",
              "  'zd_20',\n",
              "  'zd_25',\n",
              "  'zd_30'],\n",
              " 'length_day': 10,\n",
              " 'initial_amount': 100000,\n",
              " 'transaction_cost_pct': 0.001,\n",
              " 'test_dynamic_path': 'data/portfolio_management/dj30/DJI_label_by_DJIindex_3_24_-0.25_0.25.csv'}"
            ]
          },
          "metadata": {},
          "execution_count": 17
        }
      ],
      "source": [
        "cfg[\"data\"]"
      ]
    },
    {
      "cell_type": "markdown",
      "metadata": {
        "id": "tFD-NGeu7fsL"
      },
      "source": [
        "## Step 2.2: Download data from Yahoo Finance then Generate new technical indicators"
      ]
    },
    {
      "cell_type": "markdown",
      "metadata": {
        "id": "fpq8e9UtUJZX"
      },
      "source": [
        "First modify the `indicator` in `configs/data_preprocessor/yahoofinance/dj30.py`. When `indicator='alpha158'`, this means that all technical indicators are generated. When `indicator='alpha158_novolume'`, this means generating volume-independent technical indicators. When `indicator='basic'`, it means that only the simplest technical indicators shown above are generated."
      ]
    },
    {
      "cell_type": "markdown",
      "metadata": {
        "id": "l27aoqBK7AmN"
      },
      "source": [
        "Run the following Python program to download data from Yahoo Finance and generate new technical indicators. In this case, we are downloading the DJ30 dataset and generating the volume-independent Alpha158 technical indicator, which includes the following: 'KMID', 'KLEN', 'KMID2', 'KUP', 'KUP2', 'KLOW', 'KLOW2', 'KSFT', 'KSFT2', 'OPEN', 'HIGH', 'LOW', 'CLOSE', 'ROC', 'MA', 'STD', 'BETA', 'MAX', 'MIN', 'QTLU', 'QTLD', 'RANK', 'RSV', 'IMAX', 'IMIN', 'IMXD', 'CORR', 'CORD', 'CNTP', 'CNTN', 'CNTD', 'SUMP', 'SUMN', 'SUMD', 'VMA', 'VSTD', 'WVMA', 'VSUMP', 'VSUMN', 'VSUMD'.\n",
        "\n",
        "This step will take approximately 5 minutes.\n",
        "\n",
        "\n",
        "\n"
      ]
    },
    {
      "cell_type": "code",
      "execution_count": null,
      "metadata": {
        "colab": {
          "base_uri": "https://localhost:8080/"
        },
        "id": "KcfepMSB6-Hi",
        "outputId": "4aae9b9b-9ccb-4486-ea89-829f4b22af8c"
      },
      "outputs": [
        {
          "name": "stdout",
          "output_type": "stream",
          "text": [
            "\r[*********************100%***********************]  1 of 1 completed\n",
            "[*********************100%***********************]  1 of 1 completed\n",
            "[*********************100%***********************]  1 of 1 completed\n",
            "[*********************100%***********************]  1 of 1 completed\n",
            "[*********************100%***********************]  1 of 1 completed\n",
            "[*********************100%***********************]  1 of 1 completed\n",
            "[*********************100%***********************]  1 of 1 completed\n",
            "[*********************100%***********************]  1 of 1 completed\n",
            "[*********************100%***********************]  1 of 1 completed\n",
            "[*********************100%***********************]  1 of 1 completed\n",
            "[*********************100%***********************]  1 of 1 completed\n",
            "[*********************100%***********************]  1 of 1 completed\n",
            "[*********************100%***********************]  1 of 1 completed\n",
            "[*********************100%***********************]  1 of 1 completed\n",
            "[*********************100%***********************]  1 of 1 completed\n",
            "[*********************100%***********************]  1 of 1 completed\n",
            "[*********************100%***********************]  1 of 1 completed\n",
            "[*********************100%***********************]  1 of 1 completed\n",
            "[*********************100%***********************]  1 of 1 completed\n",
            "[*********************100%***********************]  1 of 1 completed\n",
            "[*********************100%***********************]  1 of 1 completed\n",
            "[*********************100%***********************]  1 of 1 completed\n",
            "[*********************100%***********************]  1 of 1 completed\n",
            "[*********************100%***********************]  1 of 1 completed\n",
            "[*********************100%***********************]  1 of 1 completed\n",
            "[*********************100%***********************]  1 of 1 completed\n",
            "[*********************100%***********************]  1 of 1 completed\n",
            "[*********************100%***********************]  1 of 1 completed\n",
            "[*********************100%***********************]  1 of 1 completed\n",
            "[*********************100%***********************]  1 of 1 completed\n",
            "[*********************100%***********************]  1 of 1 completed\n",
            "[*********************100%***********************]  1 of 1 completed\n",
            "[*********************100%***********************]  1 of 1 completed\n",
            "[*********************100%***********************]  1 of 1 completed\n",
            "[*********************100%***********************]  1 of 1 completed\n",
            "[*********************100%***********************]  1 of 1 completed\n",
            "[*********************100%***********************]  1 of 1 completed\n",
            "[*********************100%***********************]  1 of 1 completed\n",
            "[*********************100%***********************]  1 of 1 completed\n",
            "[*********************100%***********************]  1 of 1 completed\n",
            "[*********************100%***********************]  1 of 1 completed\n",
            "[*********************100%***********************]  1 of 1 completed\n",
            "[*********************100%***********************]  1 of 1 completed\n",
            "[*********************100%***********************]  1 of 1 completed\n",
            "[*********************100%***********************]  1 of 1 completed\n",
            "[*********************100%***********************]  1 of 1 completed\n",
            "[*********************100%***********************]  1 of 1 completed\n",
            "[*********************100%***********************]  1 of 1 completed\n",
            "[*********************100%***********************]  1 of 1 completed\n",
            "[*********************100%***********************]  1 of 1 completed\n",
            "[*********************100%***********************]  1 of 1 completed\n",
            "[*********************100%***********************]  1 of 1 completed\n",
            "[*********************100%***********************]  1 of 1 completed\n",
            "[*********************100%***********************]  1 of 1 completed\n",
            "[*********************100%***********************]  1 of 1 completed\n",
            "[*********************100%***********************]  1 of 1 completed\n",
            "[*********************100%***********************]  1 of 1 completed\n",
            "[*********************100%***********************]  1 of 1 completed\n",
            "[*********************100%***********************]  1 of 1 completed\n",
            "[*********************100%***********************]  1 of 1 completed\n",
            "100% 4779/4779 [00:02<00:00, 1594.02it/s]\n"
          ]
        }
      ],
      "source": [
        "!python /content/TradeMaster/tools/data_preprocessor/yahoofinance/dj30.py"
      ]
    },
    {
      "cell_type": "markdown",
      "metadata": {
        "id": "HEimgw2m6pnv"
      },
      "source": [
        "As new files have been generated, the paths for the training, validation, and test sets need to be updated in the config file. "
      ]
    },
    {
      "cell_type": "code",
      "execution_count": null,
      "metadata": {
        "id": "a95QIDpvyU-d"
      },
      "outputs": [],
      "source": [
        "cfg[\"data\"]['train_path']='workdir/dj30/train.csv'\n",
        "cfg[\"data\"]['valid_path']='workdir/dj30/valid.csv'\n",
        "cfg[\"data\"]['test_path']='workdir/dj30/test.csv'"
      ]
    },
    {
      "cell_type": "markdown",
      "metadata": {
        "id": "_V_fWa_z6vmz"
      },
      "source": [
        "Additionally, since the number of indicators has increased, a new list of technical indicators needs to be exported based on the newly generated files."
      ]
    },
    {
      "cell_type": "code",
      "execution_count": null,
      "metadata": {
        "id": "7M99pKvT1I6G"
      },
      "outputs": [],
      "source": [
        "cols_to_drop = ['Unnamed: 0',\n",
        "          'open',\n",
        "          'high',\n",
        "          'low',\n",
        "          'close',\n",
        "          'adjclose',\n",
        "          'volume',\n",
        "          'tic',\n",
        "          'date',]\n",
        "get_indicator_list = pd.read_csv('workdir/dj30/train.csv')\n",
        "get_indicator_list = get_indicator_list.drop(labels=cols_to_drop, axis=1)\n",
        "cfg[\"data\"]['tech_indicator_list']=get_indicator_list.columns.tolist()"
      ]
    },
    {
      "cell_type": "markdown",
      "metadata": {
        "id": "LEfUsuGi8wuS"
      },
      "source": [
        "Now you can see the new dataset paths and the expanded list of technical indicators."
      ]
    },
    {
      "cell_type": "code",
      "execution_count": null,
      "metadata": {
        "colab": {
          "base_uri": "https://localhost:8080/"
        },
        "id": "KCnI4i_7HtW8",
        "outputId": "2d06bbb3-8e5f-40ba-ddc1-8a07ba33c1bb"
      },
      "outputs": [
        {
          "data": {
            "text/plain": [
              "{'type': 'PortfolioManagementDataset',\n",
              " 'data_path': 'data/portfolio_management/dj30',\n",
              " 'train_path': 'workdir/dj30/train.csv',\n",
              " 'valid_path': 'workdir/dj30/valid.csv',\n",
              " 'test_path': 'workdir/dj30/test.csv',\n",
              " 'tech_indicator_list': ['zopen',\n",
              "  'zhigh',\n",
              "  'zlow',\n",
              "  'zadjcp',\n",
              "  'zclose',\n",
              "  'zd_5',\n",
              "  'zd_10',\n",
              "  'zd_15',\n",
              "  'zd_20',\n",
              "  'zd_25',\n",
              "  'zd_30',\n",
              "  'zd_60',\n",
              "  'KMID',\n",
              "  'KLEN',\n",
              "  'KMID2',\n",
              "  'KUP',\n",
              "  'KUP2',\n",
              "  'KLOW',\n",
              "  'KLOW2',\n",
              "  'KSFT',\n",
              "  'KSFT2',\n",
              "  'ROC5',\n",
              "  'MA5',\n",
              "  'STD5',\n",
              "  'BETA5',\n",
              "  'RSQR5',\n",
              "  'MAX5',\n",
              "  'MIN5',\n",
              "  'QTLU5',\n",
              "  'QTLD5',\n",
              "  'RANK5',\n",
              "  'RSV5',\n",
              "  'IMAX5',\n",
              "  'IMIN5',\n",
              "  'IMXD5',\n",
              "  'CNTP5',\n",
              "  'CNTN5',\n",
              "  'CNTD5',\n",
              "  'SUMP5',\n",
              "  'SUMN5',\n",
              "  'SUMD5',\n",
              "  'ROC10',\n",
              "  'MA10',\n",
              "  'STD10',\n",
              "  'BETA10',\n",
              "  'RSQR10',\n",
              "  'MAX10',\n",
              "  'MIN10',\n",
              "  'QTLU10',\n",
              "  'QTLD10',\n",
              "  'RANK10',\n",
              "  'RSV10',\n",
              "  'IMAX10',\n",
              "  'IMIN10',\n",
              "  'IMXD10',\n",
              "  'CNTP10',\n",
              "  'CNTN10',\n",
              "  'CNTD10',\n",
              "  'SUMP10',\n",
              "  'SUMN10',\n",
              "  'SUMD10',\n",
              "  'ROC20',\n",
              "  'MA20',\n",
              "  'STD20',\n",
              "  'BETA20',\n",
              "  'RSQR20',\n",
              "  'MAX20',\n",
              "  'MIN20',\n",
              "  'QTLU20',\n",
              "  'QTLD20',\n",
              "  'RANK20',\n",
              "  'RSV20',\n",
              "  'IMAX20',\n",
              "  'IMIN20',\n",
              "  'IMXD20',\n",
              "  'CNTP20',\n",
              "  'CNTN20',\n",
              "  'CNTD20',\n",
              "  'SUMP20',\n",
              "  'SUMN20',\n",
              "  'SUMD20',\n",
              "  'ROC30',\n",
              "  'MA30',\n",
              "  'STD30',\n",
              "  'BETA30',\n",
              "  'RSQR30',\n",
              "  'MAX30',\n",
              "  'MIN30',\n",
              "  'QTLU30',\n",
              "  'QTLD30',\n",
              "  'RANK30',\n",
              "  'RSV30',\n",
              "  'IMAX30',\n",
              "  'IMIN30',\n",
              "  'IMXD30',\n",
              "  'CNTP30',\n",
              "  'CNTN30',\n",
              "  'CNTD30',\n",
              "  'SUMP30',\n",
              "  'SUMN30',\n",
              "  'SUMD30',\n",
              "  'ROC60',\n",
              "  'MA60',\n",
              "  'STD60',\n",
              "  'BETA60',\n",
              "  'RSQR60',\n",
              "  'MAX60',\n",
              "  'MIN60',\n",
              "  'QTLU60',\n",
              "  'QTLD60',\n",
              "  'RANK60',\n",
              "  'RSV60',\n",
              "  'IMAX60',\n",
              "  'IMIN60',\n",
              "  'IMXD60',\n",
              "  'CNTP60',\n",
              "  'CNTN60',\n",
              "  'CNTD60',\n",
              "  'SUMP60',\n",
              "  'SUMN60',\n",
              "  'SUMD60'],\n",
              " 'length_day': 10,\n",
              " 'initial_amount': 100000,\n",
              " 'transaction_cost_pct': 0.001,\n",
              " 'test_dynamic_path': 'data/portfolio_management/dj30/DJI_label_by_DJIindex_3_24_-0.25_0.25.csv'}"
            ]
          },
          "execution_count": 16,
          "metadata": {},
          "output_type": "execute_result"
        }
      ],
      "source": [
        "cfg[\"data\"]"
      ]
    },
    {
      "cell_type": "markdown",
      "metadata": {
        "id": "xNP4WBN8Di8X"
      },
      "source": [
        "## Step 3: Build Dataset"
      ]
    },
    {
      "cell_type": "code",
      "execution_count": null,
      "metadata": {
        "id": "Ty6sEP3dDi8X"
      },
      "outputs": [],
      "source": [
        "dataset = build_dataset(cfg)"
      ]
    },
    {
      "cell_type": "markdown",
      "metadata": {
        "id": "qOGwsjg0Di8X"
      },
      "source": [
        "## Step 4: Build Reinforcement Learning Environments"
      ]
    },
    {
      "cell_type": "code",
      "execution_count": null,
      "metadata": {
        "id": "08N88oUsDi8X"
      },
      "outputs": [],
      "source": [
        "train_environment = build_environment(cfg, default_args=dict(dataset=dataset, task=\"train\"))\n",
        "valid_environment = build_environment(cfg, default_args=dict(dataset=dataset, task=\"valid\"))\n",
        "test_environment = build_environment(cfg, default_args=dict(dataset=dataset, task=\"test\"))"
      ]
    },
    {
      "cell_type": "code",
      "execution_count": null,
      "metadata": {
        "colab": {
          "base_uri": "https://localhost:8080/",
          "height": 386
        },
        "id": "4tJtNgnuDi8Y",
        "outputId": "94afdc1f-3118-4322-a161-0c019f827ec6"
      },
      "outputs": [
        {
          "data": {
            "text/html": [
              "\n",
              "  <div id=\"df-3b25f40c-f8ae-458a-bf0a-840ba0b7b7f6\">\n",
              "    <div class=\"colab-df-container\">\n",
              "      <div>\n",
              "<style scoped>\n",
              "    .dataframe tbody tr th:only-of-type {\n",
              "        vertical-align: middle;\n",
              "    }\n",
              "\n",
              "    .dataframe tbody tr th {\n",
              "        vertical-align: top;\n",
              "    }\n",
              "\n",
              "    .dataframe thead th {\n",
              "        text-align: right;\n",
              "    }\n",
              "</style>\n",
              "<table border=\"1\" class=\"dataframe\">\n",
              "  <thead>\n",
              "    <tr style=\"text-align: right;\">\n",
              "      <th></th>\n",
              "      <th>open</th>\n",
              "      <th>high</th>\n",
              "      <th>low</th>\n",
              "      <th>close</th>\n",
              "      <th>adjclose</th>\n",
              "      <th>volume</th>\n",
              "      <th>tic</th>\n",
              "      <th>date</th>\n",
              "      <th>zopen</th>\n",
              "      <th>zhigh</th>\n",
              "      <th>...</th>\n",
              "      <th>RSV60</th>\n",
              "      <th>IMAX60</th>\n",
              "      <th>IMIN60</th>\n",
              "      <th>IMXD60</th>\n",
              "      <th>CNTP60</th>\n",
              "      <th>CNTN60</th>\n",
              "      <th>CNTD60</th>\n",
              "      <th>SUMP60</th>\n",
              "      <th>SUMN60</th>\n",
              "      <th>SUMD60</th>\n",
              "    </tr>\n",
              "  </thead>\n",
              "  <tbody>\n",
              "    <tr>\n",
              "      <th>0</th>\n",
              "      <td>0.936384</td>\n",
              "      <td>1.004464</td>\n",
              "      <td>0.907924</td>\n",
              "      <td>0.999442</td>\n",
              "      <td>0.850643</td>\n",
              "      <td>535796800</td>\n",
              "      <td>AAPL</td>\n",
              "      <td>2000-01-03</td>\n",
              "      <td>-0.063093</td>\n",
              "      <td>0.005025</td>\n",
              "      <td>...</td>\n",
              "      <td>1.502317</td>\n",
              "      <td>0.933333</td>\n",
              "      <td>0.933333</td>\n",
              "      <td>0.000000</td>\n",
              "      <td>0.516667</td>\n",
              "      <td>0.466667</td>\n",
              "      <td>0.050000</td>\n",
              "      <td>0.558062</td>\n",
              "      <td>0.441938</td>\n",
              "      <td>0.116124</td>\n",
              "    </tr>\n",
              "    <tr>\n",
              "      <th>0</th>\n",
              "      <td>47.995617</td>\n",
              "      <td>47.995617</td>\n",
              "      <td>45.515598</td>\n",
              "      <td>45.880306</td>\n",
              "      <td>33.436123</td>\n",
              "      <td>6471267</td>\n",
              "      <td>AXP</td>\n",
              "      <td>2000-01-03</td>\n",
              "      <td>0.046105</td>\n",
              "      <td>0.046105</td>\n",
              "      <td>...</td>\n",
              "      <td>74.835474</td>\n",
              "      <td>0.000000</td>\n",
              "      <td>0.000000</td>\n",
              "      <td>0.000000</td>\n",
              "      <td>0.400000</td>\n",
              "      <td>0.600000</td>\n",
              "      <td>-0.200000</td>\n",
              "      <td>0.355306</td>\n",
              "      <td>0.644694</td>\n",
              "      <td>-0.289388</td>\n",
              "    </tr>\n",
              "    <tr>\n",
              "      <th>0</th>\n",
              "      <td>41.437500</td>\n",
              "      <td>41.687500</td>\n",
              "      <td>39.812500</td>\n",
              "      <td>40.187500</td>\n",
              "      <td>25.940283</td>\n",
              "      <td>2638200</td>\n",
              "      <td>BA</td>\n",
              "      <td>2000-01-03</td>\n",
              "      <td>0.031104</td>\n",
              "      <td>0.037325</td>\n",
              "      <td>...</td>\n",
              "      <td>384.626019</td>\n",
              "      <td>0.683333</td>\n",
              "      <td>0.683333</td>\n",
              "      <td>0.000000</td>\n",
              "      <td>0.400000</td>\n",
              "      <td>0.600000</td>\n",
              "      <td>-0.200000</td>\n",
              "      <td>0.429893</td>\n",
              "      <td>0.570107</td>\n",
              "      <td>-0.140213</td>\n",
              "    </tr>\n",
              "    <tr>\n",
              "      <th>0</th>\n",
              "      <td>23.843750</td>\n",
              "      <td>24.500000</td>\n",
              "      <td>23.843750</td>\n",
              "      <td>24.312500</td>\n",
              "      <td>13.171321</td>\n",
              "      <td>5055000</td>\n",
              "      <td>CAT</td>\n",
              "      <td>2000-01-03</td>\n",
              "      <td>-0.019280</td>\n",
              "      <td>0.007712</td>\n",
              "      <td>...</td>\n",
              "      <td>1082.250908</td>\n",
              "      <td>0.016667</td>\n",
              "      <td>0.000000</td>\n",
              "      <td>0.000278</td>\n",
              "      <td>0.366667</td>\n",
              "      <td>0.633333</td>\n",
              "      <td>-0.266667</td>\n",
              "      <td>0.423712</td>\n",
              "      <td>0.576288</td>\n",
              "      <td>-0.152576</td>\n",
              "    </tr>\n",
              "    <tr>\n",
              "      <th>0</th>\n",
              "      <td>54.968750</td>\n",
              "      <td>55.125000</td>\n",
              "      <td>51.781250</td>\n",
              "      <td>54.031250</td>\n",
              "      <td>38.065060</td>\n",
              "      <td>53076000</td>\n",
              "      <td>CSCO</td>\n",
              "      <td>2000-01-03</td>\n",
              "      <td>0.017351</td>\n",
              "      <td>0.020243</td>\n",
              "      <td>...</td>\n",
              "      <td>361.054796</td>\n",
              "      <td>0.000000</td>\n",
              "      <td>0.000000</td>\n",
              "      <td>0.000000</td>\n",
              "      <td>0.416667</td>\n",
              "      <td>0.583333</td>\n",
              "      <td>-0.166667</td>\n",
              "      <td>0.423214</td>\n",
              "      <td>0.576786</td>\n",
              "      <td>-0.153572</td>\n",
              "    </tr>\n",
              "  </tbody>\n",
              "</table>\n",
              "<p>5 rows × 129 columns</p>\n",
              "</div>\n",
              "      <button class=\"colab-df-convert\" onclick=\"convertToInteractive('df-3b25f40c-f8ae-458a-bf0a-840ba0b7b7f6')\"\n",
              "              title=\"Convert this dataframe to an interactive table.\"\n",
              "              style=\"display:none;\">\n",
              "        \n",
              "  <svg xmlns=\"http://www.w3.org/2000/svg\" height=\"24px\"viewBox=\"0 0 24 24\"\n",
              "       width=\"24px\">\n",
              "    <path d=\"M0 0h24v24H0V0z\" fill=\"none\"/>\n",
              "    <path d=\"M18.56 5.44l.94 2.06.94-2.06 2.06-.94-2.06-.94-.94-2.06-.94 2.06-2.06.94zm-11 1L8.5 8.5l.94-2.06 2.06-.94-2.06-.94L8.5 2.5l-.94 2.06-2.06.94zm10 10l.94 2.06.94-2.06 2.06-.94-2.06-.94-.94-2.06-.94 2.06-2.06.94z\"/><path d=\"M17.41 7.96l-1.37-1.37c-.4-.4-.92-.59-1.43-.59-.52 0-1.04.2-1.43.59L10.3 9.45l-7.72 7.72c-.78.78-.78 2.05 0 2.83L4 21.41c.39.39.9.59 1.41.59.51 0 1.02-.2 1.41-.59l7.78-7.78 2.81-2.81c.8-.78.8-2.07 0-2.86zM5.41 20L4 18.59l7.72-7.72 1.47 1.35L5.41 20z\"/>\n",
              "  </svg>\n",
              "      </button>\n",
              "      \n",
              "  <style>\n",
              "    .colab-df-container {\n",
              "      display:flex;\n",
              "      flex-wrap:wrap;\n",
              "      gap: 12px;\n",
              "    }\n",
              "\n",
              "    .colab-df-convert {\n",
              "      background-color: #E8F0FE;\n",
              "      border: none;\n",
              "      border-radius: 50%;\n",
              "      cursor: pointer;\n",
              "      display: none;\n",
              "      fill: #1967D2;\n",
              "      height: 32px;\n",
              "      padding: 0 0 0 0;\n",
              "      width: 32px;\n",
              "    }\n",
              "\n",
              "    .colab-df-convert:hover {\n",
              "      background-color: #E2EBFA;\n",
              "      box-shadow: 0px 1px 2px rgba(60, 64, 67, 0.3), 0px 1px 3px 1px rgba(60, 64, 67, 0.15);\n",
              "      fill: #174EA6;\n",
              "    }\n",
              "\n",
              "    [theme=dark] .colab-df-convert {\n",
              "      background-color: #3B4455;\n",
              "      fill: #D2E3FC;\n",
              "    }\n",
              "\n",
              "    [theme=dark] .colab-df-convert:hover {\n",
              "      background-color: #434B5C;\n",
              "      box-shadow: 0px 1px 3px 1px rgba(0, 0, 0, 0.15);\n",
              "      filter: drop-shadow(0px 1px 2px rgba(0, 0, 0, 0.3));\n",
              "      fill: #FFFFFF;\n",
              "    }\n",
              "  </style>\n",
              "\n",
              "      <script>\n",
              "        const buttonEl =\n",
              "          document.querySelector('#df-3b25f40c-f8ae-458a-bf0a-840ba0b7b7f6 button.colab-df-convert');\n",
              "        buttonEl.style.display =\n",
              "          google.colab.kernel.accessAllowed ? 'block' : 'none';\n",
              "\n",
              "        async function convertToInteractive(key) {\n",
              "          const element = document.querySelector('#df-3b25f40c-f8ae-458a-bf0a-840ba0b7b7f6');\n",
              "          const dataTable =\n",
              "            await google.colab.kernel.invokeFunction('convertToInteractive',\n",
              "                                                     [key], {});\n",
              "          if (!dataTable) return;\n",
              "\n",
              "          const docLinkHtml = 'Like what you see? Visit the ' +\n",
              "            '<a target=\"_blank\" href=https://colab.research.google.com/notebooks/data_table.ipynb>data table notebook</a>'\n",
              "            + ' to learn more about interactive tables.';\n",
              "          element.innerHTML = '';\n",
              "          dataTable['output_type'] = 'display_data';\n",
              "          await google.colab.output.renderOutput(dataTable, element);\n",
              "          const docLink = document.createElement('div');\n",
              "          docLink.innerHTML = docLinkHtml;\n",
              "          element.appendChild(docLink);\n",
              "        }\n",
              "      </script>\n",
              "    </div>\n",
              "  </div>\n",
              "  "
            ],
            "text/plain": [
              "        open       high        low      close   adjclose     volume   tic  \\\n",
              "0   0.936384   1.004464   0.907924   0.999442   0.850643  535796800  AAPL   \n",
              "0  47.995617  47.995617  45.515598  45.880306  33.436123    6471267   AXP   \n",
              "0  41.437500  41.687500  39.812500  40.187500  25.940283    2638200    BA   \n",
              "0  23.843750  24.500000  23.843750  24.312500  13.171321    5055000   CAT   \n",
              "0  54.968750  55.125000  51.781250  54.031250  38.065060   53076000  CSCO   \n",
              "\n",
              "         date     zopen     zhigh  ...        RSV60    IMAX60    IMIN60  \\\n",
              "0  2000-01-03 -0.063093  0.005025  ...     1.502317  0.933333  0.933333   \n",
              "0  2000-01-03  0.046105  0.046105  ...    74.835474  0.000000  0.000000   \n",
              "0  2000-01-03  0.031104  0.037325  ...   384.626019  0.683333  0.683333   \n",
              "0  2000-01-03 -0.019280  0.007712  ...  1082.250908  0.016667  0.000000   \n",
              "0  2000-01-03  0.017351  0.020243  ...   361.054796  0.000000  0.000000   \n",
              "\n",
              "     IMXD60    CNTP60    CNTN60    CNTD60    SUMP60    SUMN60    SUMD60  \n",
              "0  0.000000  0.516667  0.466667  0.050000  0.558062  0.441938  0.116124  \n",
              "0  0.000000  0.400000  0.600000 -0.200000  0.355306  0.644694 -0.289388  \n",
              "0  0.000000  0.400000  0.600000 -0.200000  0.429893  0.570107 -0.140213  \n",
              "0  0.000278  0.366667  0.633333 -0.266667  0.423712  0.576288 -0.152576  \n",
              "0  0.000000  0.416667  0.583333 -0.166667  0.423214  0.576786 -0.153572  \n",
              "\n",
              "[5 rows x 129 columns]"
            ]
          },
          "execution_count": 19,
          "metadata": {},
          "output_type": "execute_result"
        }
      ],
      "source": [
        "train_environment.df.head()"
      ]
    },
    {
      "cell_type": "markdown",
      "metadata": {
        "id": "gKvE1usaDi8Y"
      },
      "source": [
        "## Step 5: Build Net \n",
        "Update information on the state and action dimension. Crreate networks and optimizer for EIIE."
      ]
    },
    {
      "cell_type": "code",
      "execution_count": null,
      "metadata": {
        "id": "nUK3NnWeDi8Y"
      },
      "outputs": [],
      "source": [
        "action_dim = train_environment.action_dim # 29\n",
        "state_dim = train_environment.state_dim # 11\n",
        "input_dim = len(train_environment.tech_indicator_list)\n",
        "time_steps = train_environment.time_steps\n",
        "\n",
        "cfg.act.update(dict(input_dim=input_dim, time_steps=time_steps))\n",
        "cfg.cri.update(dict(input_dim=input_dim, action_dim= action_dim, time_steps=time_steps))\n",
        "\n",
        "act = build_net(cfg.act)\n",
        "cri = build_net(cfg.cri)\n",
        "act_optimizer = build_optimizer(cfg, default_args=dict(params=act.parameters()))\n",
        "cri_optimizer = build_optimizer(cfg, default_args=dict(params=cri.parameters()))"
      ]
    },
    {
      "cell_type": "markdown",
      "metadata": {
        "id": "JMGj06k1Di8Y"
      },
      "source": [
        "## Step 6: Build Loss Function"
      ]
    },
    {
      "cell_type": "code",
      "execution_count": null,
      "metadata": {
        "id": "ul6jFLNIDi8Y"
      },
      "outputs": [],
      "source": [
        "criterion = build_loss(cfg)"
      ]
    },
    {
      "cell_type": "markdown",
      "metadata": {
        "id": "a5e04E0kDi8Z"
      },
      "source": [
        "## Step 7: Build Transition"
      ]
    },
    {
      "cell_type": "code",
      "execution_count": null,
      "metadata": {
        "id": "LoJJ44p0Di8Z"
      },
      "outputs": [],
      "source": [
        "transition = build_transition(cfg)\n"
      ]
    },
    {
      "cell_type": "markdown",
      "metadata": {
        "id": "Jsv-VkMIDi8Z"
      },
      "source": [
        "## Step 8: Build Agent"
      ]
    },
    {
      "cell_type": "code",
      "execution_count": null,
      "metadata": {
        "id": "tAOjcZDdDi8Z"
      },
      "outputs": [],
      "source": [
        "device = torch.device('cuda' if torch.cuda.is_available() else 'cpu')\n",
        "agent = build_agent(cfg, default_args=dict(action_dim=action_dim,state_dim=state_dim,time_steps = time_steps,act=act,cri=cri,act_optimizer=act_optimizer,cri_optimizer = cri_optimizer,criterion=criterion,transition = transition,device = device))"
      ]
    },
    {
      "cell_type": "markdown",
      "metadata": {
        "id": "pKu-UDM0Di8Z"
      },
      "source": [
        "## Step 9: Build Trainer\n",
        "Build trainer from config and create work directionary to save the result, model and config"
      ]
    },
    {
      "cell_type": "code",
      "execution_count": null,
      "metadata": {
        "colab": {
          "base_uri": "https://localhost:8080/"
        },
        "id": "sKsUks4NDi8Z",
        "outputId": "8d30bc7b-c784-4f06-d950-e1bd3f2a2f40"
      },
      "outputs": [
        {
          "name": "stdout",
          "output_type": "stream",
          "text": [
            "| Arguments Keep work_dir: /content/TradeMaster/work_dir/portfolio_management_dj30_eiie_eiie_adam_mse\n"
          ]
        }
      ],
      "source": [
        "trainer = build_trainer(cfg, default_args=dict(train_environment=train_environment,valid_environment=valid_environment,test_environment=test_environment,agent=agent,device=device))\n",
        "work_dir = os.path.join(ROOT, cfg.trainer.work_dir)\n",
        "\n",
        "if not os.path.exists(work_dir):\n",
        "    os.makedirs(work_dir)\n",
        "cfg.dump(osp.join(work_dir, osp.basename(args.config)))"
      ]
    },
    {
      "cell_type": "markdown",
      "metadata": {
        "id": "FtX5LBB6Di8a"
      },
      "source": [
        "## Step 10: RL Agent Training\n",
        "Train the EIIE agent based on the config and save results in workdir. Each epoch may take several hours due to the greatly increased number of technical indicators."
      ]
    },
    {
      "cell_type": "code",
      "execution_count": null,
      "metadata": {
        "colab": {
          "background_save": true
        },
        "id": "dd2A_BiwDi8a"
      },
      "outputs": [],
      "source": [
        "trainer.train_and_valid()"
      ]
    },
    {
      "cell_type": "markdown",
      "metadata": {
        "id": "9Dl5ttWnDi8a"
      },
      "source": [
        "## Step 11: RL Agent Testing"
      ]
    },
    {
      "cell_type": "code",
      "execution_count": null,
      "metadata": {
        "colab": {
          "background_save": true
        },
        "id": "ChzPXzFMDi8a"
      },
      "outputs": [],
      "source": [
        "trainer.test();"
      ]
    },
    {
      "cell_type": "code",
      "execution_count": null,
      "metadata": {
        "colab": {
          "background_save": true
        },
        "id": "jy-g2tUuDi8a"
      },
      "outputs": [],
      "source": [
        "plot(trainer.test_environment.save_asset_memory(),alg=\"EIIE\")"
      ]
    }
  ],
  "metadata": {
    "accelerator": "GPU",
    "colab": {
      "provenance": [],
      "include_colab_link": true
    },
    "gpuClass": "standard",
    "kernelspec": {
      "display_name": "Python 3 (ipykernel)",
      "language": "python",
      "name": "python3"
    },
    "language_info": {
      "codemirror_mode": {
        "name": "ipython",
        "version": 3
      },
      "file_extension": ".py",
      "mimetype": "text/x-python",
      "name": "python",
      "nbconvert_exporter": "python",
      "pygments_lexer": "ipython3",
      "version": "3.7.13"
    },
    "vscode": {
      "interpreter": {
        "hash": "a1f97403911abd3f02553c8f2b0c54537fddc7efadd9f5d3e31784db6e40c347"
      }
    }
  },
  "nbformat": 4,
  "nbformat_minor": 0
}